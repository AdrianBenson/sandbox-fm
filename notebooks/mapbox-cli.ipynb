{
 "cells": [
  {
   "cell_type": "code",
   "execution_count": 30,
   "metadata": {
    "collapsed": true
   },
   "outputs": [],
   "source": [
    "import json\n",
    "import scipy.io\n",
    "import matplotlib.pyplot as plt\n",
    "%matplotlib inline\n",
    "import osgeo.osr\n",
    "import numpy as np\n",
    "import geojson"
   ]
  },
  {
   "cell_type": "code",
   "execution_count": 16,
   "metadata": {
    "collapsed": false
   },
   "outputs": [],
   "source": [
    "coords = scipy.io.loadmat('/Users/baart_f/Dropbox/AR_SandBox_Zandmotor/XBeach/FinalModel/ModelCoords.mat')"
   ]
  },
  {
   "cell_type": "code",
   "execution_count": 17,
   "metadata": {
    "collapsed": false
   },
   "outputs": [
    {
     "data": {
      "text/plain": [
       "[<matplotlib.lines.Line2D at 0x114c4c9e8>]"
      ]
     },
     "execution_count": 17,
     "metadata": {},
     "output_type": "execute_result"
    },
    {
     "data": {
      "image/png": "[encoded data removed]",
      "text/plain": [
       "<matplotlib.figure.Figure at 0x1186fbfd0>"
      ]
     },
     "metadata": {},
     "output_type": "display_data"
    }
   ],
   "source": [
    "plt.plot(coords['xx'].ravel(), coords['yy'].ravel(), 'k.')"
   ]
  },
  {
   "cell_type": "code",
   "execution_count": 22,
   "metadata": {
    "collapsed": false
   },
   "outputs": [
    {
     "data": {
      "text/plain": [
       "(array([[ 589563.42,  589774.19],\n",
       "        [ 589149.75,  589360.51]]), array([[ 4095849.2,  4096150.2],\n",
       "        [ 4096138.9,  4096439.9]]))"
      ]
     },
     "execution_count": 22,
     "metadata": {},
     "output_type": "execute_result"
    }
   ],
   "source": [
    "xx = coords['xx']\n",
    "yy = coords['yy']\n",
    "x_corners = xx[::xx.shape[0]-1, ::xx.shape[1]-1]\n",
    "y_corners = yy[::yy.shape[0]-1, ::yy.shape[1]-1]\n",
    "x_corners, y_corners"
   ]
  },
  {
   "cell_type": "code",
   "execution_count": 26,
   "metadata": {
    "collapsed": false
   },
   "outputs": [],
   "source": [
    "utm = osgeo.osr.SpatialReference()\n",
    "wgs84 = osgeo.osr.SpatialReference()\n",
    "utm.ImportFromEPSG(32629)\n",
    "wgs84.ImportFromEPSG(4326)\n",
    "utm2wgs = osgeo.osr.CoordinateTransformation(utm, wgs84)"
   ]
  },
  {
   "cell_type": "code",
   "execution_count": 32,
   "metadata": {
    "collapsed": false
   },
   "outputs": [],
   "source": [
    "wgs_corners = utm2wgs.TransformPoints(np.c_[x_corners.ravel(), y_corners.ravel()])"
   ]
  },
  {
   "cell_type": "code",
   "execution_count": 40,
   "metadata": {
    "collapsed": false
   },
   "outputs": [],
   "source": [
    "features = []\n",
    "for corner in wgs_corners:\n",
    "    pt = geojson.Point(coordinates=[corner[0], corner[1]])\n",
    "    feature = geojson.Feature(geometry=pt)\n",
    "    features.append(feature)\n",
    "collection = geojson.FeatureCollection(features)    "
   ]
  },
  {
   "cell_type": "code",
   "execution_count": 43,
   "metadata": {
    "collapsed": false
   },
   "outputs": [],
   "source": [
    "geojson.dump(collection, open('/Users/baart_f/Dropbox/AR_SandBox_Zandmotor/XBeach/FinalModel/bbox.json', 'w'))"
   ]
  },
  {
   "cell_type": "code",
   "execution_count": 57,
   "metadata": {
    "collapsed": false
   },
   "outputs": [
    {
     "name": "stderr",
     "output_type": "stream",
     "text": [
      "INFO:requests.packages.urllib3.connectionpool:Starting new HTTPS connection (1): api.mapbox.com\n",
      "DEBUG:requests.packages.urllib3.connectionpool:\"GET /v4/mapbox.satellite/geojson(%7B%22features%22%3A%5B%7B%22geometry%22%3A%7B%22coordinates%22%3A%5B-7.993353352801874%2C37.004536544980326%5D%2C%22type%22%3A%22Point%22%7D%2C%22properties%22%3A%7B%7D%2C%22type%22%3A%22Feature%22%7D%2C%7B%22geometry%22%3A%7B%22coordinates%22%3A%5B-7.99094888067895%2C37.00722934975202%5D%2C%22type%22%3A%22Point%22%7D%2C%22properties%22%3A%7B%7D%2C%22type%22%3A%22Feature%22%7D%2C%7B%22geometry%22%3A%7B%22coordinates%22%3A%5B-7.997967868086722%2C37.007186961779084%5D%2C%22type%22%3A%22Point%22%7D%2C%22properties%22%3A%7B%7D%2C%22type%22%3A%22Feature%22%7D%2C%7B%22geometry%22%3A%7B%22coordinates%22%3A%5B-7.995563583308072%2C37.00987986100271%5D%2C%22type%22%3A%22Point%22%7D%2C%22properties%22%3A%7B%7D%2C%22type%22%3A%22Feature%22%7D%5D%2C%22type%22%3A%22FeatureCollection%22%7D)/-7.9947,37.0067,17/1024x1024.png256?access_token=pk.eyJ1Ijoic2lnZ3lmIiwiYSI6Il8xOGdYdlEifQ.3-JZpqwUa3hydjAJFXIlMA HTTP/1.1\" 200 637810\n"
     ]
    }
   ],
   "source": [
    "%%bash\n",
    "export MAPBOX_ACCESS_TOKEN=pk.eyJ1Ijoic2lnZ3lmIiwiYSI6Il8xOGdYdlEifQ.3-JZpqwUa3hydjAJFXIlMA\n",
    "mapbox -v -v -v staticmap --features /Users/baart_f/Dropbox/AR_SandBox_Zandmotor/XBeach/FinalModel/bbox.json --lat 37.0067 --lon -7.9947 --zoom 17 mapbox.satellite --size 1024 1024 test.png"
   ]
  },
  {
   "cell_type": "code",
   "execution_count": 58,
   "metadata": {
    "collapsed": true
   },
   "outputs": [],
   "source": [
    "!open test.png"
   ]
  },
  {
   "cell_type": "code",
   "execution_count": null,
   "metadata": {
    "collapsed": true
   },
   "outputs": [],
   "source": []
  }
 ],
 "metadata": {
  "kernelspec": {
   "display_name": "Python 3",
   "language": "python",
   "name": "python3"
  },
  "language_info": {
   "codemirror_mode": {
    "name": "ipython",
    "version": 3
   },
   "file_extension": ".py",
   "mimetype": "text/x-python",
   "name": "python",
   "nbconvert_exporter": "python",
   "pygments_lexer": "ipython3",
   "version": "3.5.3"
  }
 },
 "nbformat": 4,
 "nbformat_minor": 1
}
