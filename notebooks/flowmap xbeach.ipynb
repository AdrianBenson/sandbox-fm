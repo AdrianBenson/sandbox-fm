{
 "cells": [
  {
   "cell_type": "code",
   "execution_count": 1,
   "metadata": {
    "collapsed": true
   },
   "outputs": [],
   "source": [
    "import bmi.wrapper\n",
    "import numpy as np\n",
    "import matplotlib.pyplot as plt\n",
    "%matplotlib inline"
   ]
  },
  {
   "cell_type": "code",
   "execution_count": 2,
   "metadata": {
    "collapsed": false
   },
   "outputs": [],
   "source": [
    "model = bmi.wrapper.BMIWrapper('xbeach')"
   ]
  },
  {
   "cell_type": "code",
   "execution_count": 3,
   "metadata": {
    "collapsed": false
   },
   "outputs": [],
   "source": [
    "model.initialize('../tests/LargerModel4/params.txt')"
   ]
  },
  {
   "cell_type": "code",
   "execution_count": 4,
   "metadata": {
    "collapsed": false
   },
   "outputs": [
    {
     "data": {
      "text/plain": [
       "199.99999999999994"
      ]
     },
     "execution_count": 4,
     "metadata": {},
     "output_type": "execute_result"
    }
   ],
   "source": [
    "for i in range(100):\n",
    "    model.update(600)\n",
    "model.get_current_time()"
   ]
  },
  {
   "cell_type": "code",
   "execution_count": 5,
   "metadata": {
    "collapsed": false
   },
   "outputs": [],
   "source": [
    "data = {}\n",
    "for var_name in ['H', 'D', 'cgx', 'cgy']:\n",
    "    data[var_name] = np.squeeze(model.get_var(var_name))\n"
   ]
  },
  {
   "cell_type": "code",
   "execution_count": 13,
   "metadata": {
    "collapsed": false
   },
   "outputs": [
    {
     "data": {
      "text/plain": [
       "<matplotlib.image.AxesImage at 0x1197e4ac8>"
      ]
     },
     "execution_count": 13,
     "metadata": {},
     "output_type": "execute_result"
    },
    {
     "data": {
      "image/png": "[encoded data removed]",
      "text/plain": [
       "<matplotlib.figure.Figure at 0x11a3863c8>"
      ]
     },
     "metadata": {},
     "output_type": "display_data"
    }
   ],
   "source": [
    "plt.imshow(data['H'][:64, :64])"
   ]
  },
  {
   "cell_type": "code",
   "execution_count": 7,
   "metadata": {
    "collapsed": true
   },
   "outputs": [],
   "source": [
    "for i in range(256):\n",
    "    model.update(600)\n",
    "    "
   ]
  },
  {
   "cell_type": "code",
   "execution_count": 8,
   "metadata": {
    "collapsed": true
   },
   "outputs": [],
   "source": [
    "import matplotlib.animation"
   ]
  },
  {
   "cell_type": "code",
   "execution_count": 9,
   "metadata": {
    "collapsed": false
   },
   "outputs": [
    {
     "data": {
      "text/plain": [
       "(0.0, 0.21482213574991493)"
      ]
     },
     "execution_count": 9,
     "metadata": {},
     "output_type": "execute_result"
    }
   ],
   "source": [
    "data['cgx'].min(), data['cgy'].max()"
   ]
  },
  {
   "cell_type": "code",
   "execution_count": 10,
   "metadata": {
    "collapsed": true
   },
   "outputs": [],
   "source": [
    "Ns = {}\n",
    "Ns['H'] = matplotlib.colors.Normalize(0, 7)\n",
    "Ns['D'] = matplotlib.colors.Normalize(0, 5000)\n",
    "Ns['cgx'] = matplotlib.colors.Normalize(-8, 8, clip=True)\n",
    "Ns['cgy'] = matplotlib.colors.Normalize(-8, 8, clip=True)"
   ]
  },
  {
   "cell_type": "code",
   "execution_count": 11,
   "metadata": {
    "collapsed": false
   },
   "outputs": [],
   "source": [
    "for i in range(256):\n",
    "    model.update(600)\n",
    "    h = Ns['H'](data['H'])\n",
    "    d = Ns['D'](data['D'])\n",
    "    dh_img = np.dstack([d, h, np.zeros_like(h)])\n",
    "    filename = \"dh_{:06d}.png\".format(i)\n",
    "    plt.imsave(filename, dh_img[:64, :64])\n",
    "    cgx = Ns['cgx'](data['cgx'])\n",
    "    cgy = Ns['cgy'](data['cgy'])\n",
    "    cgxy_img = np.dstack([cgx, cgy, np.zeros_like(cgx)])\n",
    "    filename = \"cgxy_{:06d}.png\".format(i)\n",
    "    plt.imsave(filename, cgxy_img[:64, :64])    \n"
   ]
  },
  {
   "cell_type": "code",
   "execution_count": 12,
   "metadata": {
    "collapsed": false
   },
   "outputs": [
    {
     "data": {
      "text/plain": [
       "masked_array(data =\n",
       " [[ 1.          1.          1.         ...,  0.74247741  0.74647193\n",
       "   0.74494723]\n",
       " [ 1.          1.          1.         ...,  0.74422531  0.74647281\n",
       "   0.74494723]\n",
       " [ 1.          1.          1.         ...,  0.74247676  0.74821374\n",
       "   0.74678811]\n",
       " ..., \n",
       " [ 1.          1.          1.         ...,  0.68684551  0.68278704\n",
       "   0.68391015]\n",
       " [ 1.          1.          1.         ...,  0.69578321  0.69176458\n",
       "   0.69282829]\n",
       " [ 1.          1.          1.         ...,  0.69418315  0.6931282\n",
       "   0.69419921]],\n",
       "             mask =\n",
       " False,\n",
       "       fill_value = 1e+20)"
      ]
     },
     "execution_count": 12,
     "metadata": {},
     "output_type": "execute_result"
    }
   ],
   "source": [
    "Ns['cgx'](data['cgx'])"
   ]
  },
  {
   "cell_type": "code",
   "execution_count": null,
   "metadata": {
    "collapsed": true
   },
   "outputs": [],
   "source": []
  }
 ],
 "metadata": {
  "kernelspec": {
   "display_name": "Python 3",
   "language": "python",
   "name": "python3"
  },
  "language_info": {
   "codemirror_mode": {
    "name": "ipython",
    "version": 3
   },
   "file_extension": ".py",
   "mimetype": "text/x-python",
   "name": "python",
   "nbconvert_exporter": "python",
   "pygments_lexer": "ipython3",
   "version": "3.5.3"
  }
 },
 "nbformat": 4,
 "nbformat_minor": 1
}
