{
 "cells": [
  {
   "cell_type": "code",
   "execution_count": 16,
   "metadata": {
    "collapsed": true
   },
   "outputs": [],
   "source": [
    "import numpy as np\n",
    "import matplotlib.pyplot as plt\n",
    "import json\n",
    "%matplotlib inline"
   ]
  },
  {
   "cell_type": "code",
   "execution_count": 17,
   "metadata": {
    "collapsed": false
   },
   "outputs": [],
   "source": [
    "calibration = json.load(open('../tests/LargerModel4/calibration.json'))\n",
    "model_points = calibration['model_points']\n",
    "calibration2 = json.load(open('../tests/FinalModel/calibration.json'))\n",
    "model2_points = calibration2['model_points']\n"
   ]
  },
  {
   "cell_type": "code",
   "execution_count": 18,
   "metadata": {
    "collapsed": false
   },
   "outputs": [],
   "source": [
    "cal_pts = np.array([\n",
    "    [\n",
    "      589161.3718647438,\n",
    "      4096037.1884528063\n",
    "    ],\n",
    "    [\n",
    "      589552.7019537461,\n",
    "      4095739.9397602044\n",
    "    ],\n",
    "    [\n",
    "      589730.9745498472,\n",
    "      4096064.2110612243\n",
    "    ],\n",
    "    [\n",
    "      589352.6887971449,\n",
    "      4096339.8416670915\n",
    "    ]\n",
    "])\n",
    "cal_pts = np.array(model_points)\n",
    "cal2_pts = np.array(model2_points)"
   ]
  },
  {
   "cell_type": "code",
   "execution_count": 19,
   "metadata": {
    "collapsed": false
   },
   "outputs": [],
   "source": [
    "x = np.array([\n",
    "        [ 589563.42,  589774.19],\n",
    "        [ 589149.75,  589360.51]\n",
    "    ])\n",
    "y = np.array([[ 4095849.2,  4096150.2],\n",
    "        [ 4096138.9,  4096439.9]])\n",
    "mat_pts = np.c_[x.ravel(), y.ravel()][[2, 0, 1, 3], :]\n"
   ]
  },
  {
   "cell_type": "code",
   "execution_count": 20,
   "metadata": {
    "collapsed": false
   },
   "outputs": [
    {
     "data": {
      "image/png": "[encoded data removed]",
      "text/plain": [
       "<matplotlib.figure.Figure at 0x7f60580ad0d0>"
      ]
     },
     "metadata": {},
     "output_type": "display_data"
    }
   ],
   "source": [
    "fig, ax = plt.subplots()\n",
    "ax.plot(mat_pts[:, 0], mat_pts[:, 1], color='red', label='mat')\n",
    "for i, pt in enumerate(mat_pts):\n",
    "    ax.text(pt[0], pt[1], str(i))\n",
    "ax.plot(cal_pts[:, 0] + 10, cal_pts[:, 1], color='blue', label='cal')\n",
    "for i, pt in enumerate(cal_pts):\n",
    "    ax.text(pt[0] + 10, pt[1], str(i))\n",
    "ax.plot(cal2_pts[:, 0], cal2_pts[:, 1], color='purple', label='cal2')\n",
    "for i, pt in enumerate(cal2_pts):\n",
    "    ax.text(pt[0], pt[1], str(i))"
   ]
  },
  {
   "cell_type": "code",
   "execution_count": 21,
   "metadata": {
    "collapsed": false
   },
   "outputs": [
    {
     "data": {
      "text/plain": [
       "([[589149.75, 4096138.9],\n",
       "  [589563.42, 4095849.2],\n",
       "  [589774.19, 4096150.2],\n",
       "  [589360.51, 4096439.9]],\n",
       " array([[  589149.75,  4096138.9 ],\n",
       "        [  589563.42,  4095849.2 ],\n",
       "        [  589774.19,  4096150.2 ],\n",
       "        [  589360.51,  4096439.9 ]]),\n",
       " array([[  589161.37186474,  4096037.18845281],\n",
       "        [  589552.70195375,  4095739.9397602 ],\n",
       "        [  589730.97454985,  4096064.21106122],\n",
       "        [  589352.68879714,  4096339.84166709]]))"
      ]
     },
     "execution_count": 21,
     "metadata": {},
     "output_type": "execute_result"
    }
   ],
   "source": [
    "mat_pts.tolist(), cal_pts, cal2_pts"
   ]
  },
  {
   "cell_type": "code",
   "execution_count": 17,
   "metadata": {
    "collapsed": false
   },
   "outputs": [
    {
     "name": "stdout",
     "output_type": "stream",
     "text": [
      "{u'_comment': u'\\n        This file contains calibrations for model /home/sandbox/src/sandbox-fm/tests/LargerModel4/params.txt.\\n        It is generated with the perspective transform from opencv.\\n        ',\n",
      " u'box': [[0.0, 0.0], [640.0, 0.0], [640.0, 480.0], [0.0, 480.0]],\n",
      " u'height_points': [[431.7077922077921, 253.21428571428578], [63.5, 431.5]],\n",
      " u'img_points': [[63.5, 47.5], [575.5, 47.5], [575.5, 431.5], [63.5, 431.5]],\n",
      " u'model_points': [[589149.75, 4096138.9],\n",
      "                   [589563.42, 4095849.2],\n",
      "                   [589774.19, 4096150.2],\n",
      "                   [589360.51, 4096439.9]],\n",
      " u'z': [-8.0, 5],\n",
      " u'z_values': [732.0, 694.0]}\n"
     ]
    }
   ],
   "source": [
    "import pprint\n",
    "pprint.pprint(calibration)"
   ]
  },
  {
   "cell_type": "code",
   "execution_count": 18,
   "metadata": {
    "collapsed": false
   },
   "outputs": [
    {
     "name": "stdout",
     "output_type": "stream",
     "text": [
      "{u'_comment': u'\\n        This file contains calibrations for model /home/sandbox/src/sandbox-fm/tests/LargerModel4/params.txt.\\n        It is generated with the perspective transform from opencv.\\n        ',\n",
      " u'box': [[0.0, 0.0], [640.0, 0.0], [640.0, 480.0], [0.0, 480.0]],\n",
      " u'height_points': [[431.7077922077921, 253.21428571428578], [63.5, 431.5]],\n",
      " u'img_points': [[63.5, 47.5], [575.5, 47.5], [575.5, 431.5], [63.5, 431.5]],\n",
      " u'model_points': [[589161.3718647438, 4096037.1884528063],\n",
      "                   [589552.7019537461, 4095739.9397602044],\n",
      "                   [589730.9745498472, 4096064.2110612243],\n",
      "                   [589352.6887971449, 4096339.8416670915]],\n",
      " u'z': [-8.0, 5],\n",
      " u'z_values': [732.0, 694.0]}\n"
     ]
    }
   ],
   "source": [
    "pprint.pprint(calibration2)"
   ]
  },
  {
   "cell_type": "code",
   "execution_count": null,
   "metadata": {
    "collapsed": true
   },
   "outputs": [],
   "source": []
  }
 ],
 "metadata": {
  "kernelspec": {
   "display_name": "Python 2",
   "language": "python",
   "name": "python2"
  },
  "language_info": {
   "codemirror_mode": {
    "name": "ipython",
    "version": 2
   },
   "file_extension": ".py",
   "mimetype": "text/x-python",
   "name": "python",
   "nbconvert_exporter": "python",
   "pygments_lexer": "ipython2",
   "version": "2.7.12"
  }
 },
 "nbformat": 4,
 "nbformat_minor": 1
}
