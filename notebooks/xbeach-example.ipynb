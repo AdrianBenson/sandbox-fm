{
 "cells": [
  {
   "cell_type": "code",
   "execution_count": 1,
   "metadata": {
    "collapsed": true
   },
   "outputs": [],
   "source": [
    "import numpy as np\n",
    "import bmi.wrapper"
   ]
  },
  {
   "cell_type": "code",
   "execution_count": 2,
   "metadata": {
    "collapsed": true
   },
   "outputs": [],
   "source": [
    "import matplotlib.pyplot as plt\n",
    "%matplotlib inline"
   ]
  },
  {
   "cell_type": "code",
   "execution_count": 3,
   "metadata": {},
   "outputs": [],
   "source": [
    "xbeach = bmi.wrapper.BMIWrapper('xbeach')"
   ]
  },
  {
   "cell_type": "code",
   "execution_count": 4,
   "metadata": {},
   "outputs": [],
   "source": [
    "xbeach.initialize('/Users/baart_f/src/sandbox-fm/tests/LargerModel4/params.txt')"
   ]
  },
  {
   "cell_type": "code",
   "execution_count": null,
   "metadata": {},
   "outputs": [],
   "source": []
  },
  {
   "cell_type": "code",
   "execution_count": 5,
   "metadata": {},
   "outputs": [
    {
     "name": "stdout",
     "output_type": "stream",
     "text": [
      "0.0 60\n",
      "2.307692307692308 60\n",
      "4.2857142857142865 60\n",
      "6.263736263736264 60\n",
      "8.241758241758241 60\n",
      "10.219780219780219 60\n",
      "12.197802197802197 60\n",
      "14.175824175824175 60\n",
      "16.153846153846153 60\n",
      "18.13186813186813 60\n"
     ]
    }
   ],
   "source": [
    "for i in range(10):  \n",
    "    dt = xbeach.get_time_step() \n",
    "    if dt < 0:\n",
    "        dt = -1\n",
    "    if dt < 1:\n",
    "        dt = 60\n",
    "        \n",
    "    print(xbeach.get_current_time(), dt)\n",
    "    xbeach.update(dt)"
   ]
  },
  {
   "cell_type": "code",
   "execution_count": 6,
   "metadata": {},
   "outputs": [],
   "source": [
    "data = {}\n",
    "data['ravensburger'] = np.s_[10:60, 10:50]\n",
    "\n",
    "# hh -> zs - zb\n",
    "for var in [\"zs\", \"zb\", \"u\", \"v\", \"x\", \"y\", \"hh\", \"H\"]:\n",
    "    data[var] = xbeach.get_var(var)"
   ]
  },
  {
   "cell_type": "code",
   "execution_count": 7,
   "metadata": {},
   "outputs": [
    {
     "data": {
      "text/plain": [
       "<matplotlib.colorbar.Colorbar at 0x10adf72b0>"
      ]
     },
     "execution_count": 7,
     "metadata": {},
     "output_type": "execute_result"
    },
    {
     "data": {
      "image/png": "[encoded data removed]",
      "text/plain": [
       "<matplotlib.figure.Figure at 0x104f89940>"
      ]
     },
     "metadata": {},
     "output_type": "display_data"
    }
   ],
   "source": [
    "plt.imshow(data[\"hh\"][:,:])\n",
    "plt.colorbar()"
   ]
  },
  {
   "cell_type": "code",
   "execution_count": 8,
   "metadata": {},
   "outputs": [
    {
     "data": {
      "text/plain": [
       "array([[-18.       , -18.       , -18.       , ...,  -4.4594769,\n",
       "         -4.7355161,  -4.7355161],\n",
       "       [-18.       , -18.       , -18.       , ...,  -4.4594769,\n",
       "         -4.7355161,  -4.7355161],\n",
       "       [-18.       , -18.       , -18.       , ...,  -4.4594769,\n",
       "         -4.7355161,  -4.7355161],\n",
       "       ..., \n",
       "       [-18.       , -18.       , -18.       , ...,  -1.2843433,\n",
       "         -1.1597608,  -1.1597608],\n",
       "       [-18.       , -18.       , -18.       , ...,  -1.664071 ,\n",
       "         -1.5320816,  -1.5320816],\n",
       "       [-18.       , -18.       , -18.       , ...,  -1.664071 ,\n",
       "         -1.5320816,  -1.5320816]])"
      ]
     },
     "execution_count": 8,
     "metadata": {},
     "output_type": "execute_result"
    }
   ],
   "source": [
    "data['zb']"
   ]
  },
  {
   "cell_type": "code",
   "execution_count": 9,
   "metadata": {},
   "outputs": [
    {
     "data": {
      "text/plain": [
       "<matplotlib.colorbar.Colorbar at 0x10b048048>"
      ]
     },
     "execution_count": 9,
     "metadata": {},
     "output_type": "execute_result"
    },
    {
     "data": {
      "image/png": "[encoded data removed]",
      "text/plain": [
       "<matplotlib.figure.Figure at 0x10ae3d198>"
      ]
     },
     "metadata": {},
     "output_type": "display_data"
    }
   ],
   "source": [
    "plt.imshow(data[\"zb\"][:,:])\n",
    "plt.colorbar()"
   ]
  },
  {
   "cell_type": "code",
   "execution_count": 10,
   "metadata": {},
   "outputs": [
    {
     "data": {
      "text/plain": [
       "<matplotlib.colorbar.Colorbar at 0x10b09a470>"
      ]
     },
     "execution_count": 10,
     "metadata": {},
     "output_type": "execute_result"
    },
    {
     "data": {
      "image/png": "[encoded data removed]",
      "text/plain": [
       "<matplotlib.figure.Figure at 0x10b06e940>"
      ]
     },
     "metadata": {},
     "output_type": "display_data"
    }
   ],
   "source": [
    "plt.imshow(data[\"H\"][:,:])\n",
    "plt.colorbar()"
   ]
  },
  {
   "cell_type": "code",
   "execution_count": null,
   "metadata": {
    "collapsed": true
   },
   "outputs": [],
   "source": []
  },
  {
   "cell_type": "code",
   "execution_count": null,
   "metadata": {
    "collapsed": true
   },
   "outputs": [],
   "source": []
  },
  {
   "cell_type": "code",
   "execution_count": null,
   "metadata": {
    "collapsed": true
   },
   "outputs": [],
   "source": []
  }
 ],
 "metadata": {
  "kernelspec": {
   "display_name": "Python 3",
   "language": "python",
   "name": "python3"
  },
  "language_info": {
   "codemirror_mode": {
    "name": "ipython",
    "version": 3
   },
   "file_extension": ".py",
   "mimetype": "text/x-python",
   "name": "python",
   "nbconvert_exporter": "python",
   "pygments_lexer": "ipython3",
   "version": "3.5.4"
  }
 },
 "nbformat": 4,
 "nbformat_minor": 1
}
